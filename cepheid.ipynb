{
  "nbformat": 4,
  "nbformat_minor": 0,
  "metadata": {
    "colab": {
      "name": "cepheid.ipynb",
      "provenance": [],
      "authorship_tag": "ABX9TyPjajIuxg9A0InD27Rl+uEu",
      "include_colab_link": true
    },
    "kernelspec": {
      "name": "python3",
      "display_name": "Python 3"
    },
    "language_info": {
      "name": "python"
    }
  },
  "cells": [
    {
      "cell_type": "markdown",
      "metadata": {
        "id": "view-in-github",
        "colab_type": "text"
      },
      "source": [
        "<a href=\"https://colab.research.google.com/github/TANJALISHIVANIREDDY/Cepheid-Variable-Stars/blob/main/cepheid.ipynb\" target=\"_parent\"><img src=\"https://colab.research.google.com/assets/colab-badge.svg\" alt=\"Open In Colab\"/></a>"
      ]
    },
    {
      "cell_type": "code",
      "metadata": {
        "colab": {
          "base_uri": "https://localhost:8080/"
        },
        "id": "IgxwYJmDBkqD",
        "outputId": "506f6b10-5924-481b-e970-482243d30091"
      },
      "source": [
        "pip install lightKurve"
      ],
      "execution_count": 1,
      "outputs": [
        {
          "output_type": "stream",
          "text": [
            "Collecting lightKurve\n",
            "  Downloading lightkurve-2.0.10-py3-none-any.whl (245 kB)\n",
            "\u001b[K     |████████████████████████████████| 245 kB 5.1 MB/s \n",
            "\u001b[?25hCollecting fbpca>=1.0\n",
            "  Downloading fbpca-1.0.tar.gz (11 kB)\n",
            "Requirement already satisfied: numpy>=1.11 in /usr/local/lib/python3.7/dist-packages (from lightKurve) (1.19.5)\n",
            "Collecting oktopus>=0.1.2\n",
            "  Downloading oktopus-0.1.2.tar.gz (10 kB)\n",
            "Requirement already satisfied: patsy>=0.5.0 in /usr/local/lib/python3.7/dist-packages (from lightKurve) (0.5.1)\n",
            "Collecting scikit-learn>=0.24.0\n",
            "  Downloading scikit_learn-0.24.2-cp37-cp37m-manylinux2010_x86_64.whl (22.3 MB)\n",
            "\u001b[K     |████████████████████████████████| 22.3 MB 1.7 MB/s \n",
            "\u001b[?25hCollecting uncertainties>=3.1.4\n",
            "  Downloading uncertainties-3.1.6-py2.py3-none-any.whl (98 kB)\n",
            "\u001b[K     |████████████████████████████████| 98 kB 8.3 MB/s \n",
            "\u001b[?25hRequirement already satisfied: beautifulsoup4>=4.6.0 in /usr/local/lib/python3.7/dist-packages (from lightKurve) (4.6.3)\n",
            "Requirement already satisfied: matplotlib>=1.5.3 in /usr/local/lib/python3.7/dist-packages (from lightKurve) (3.2.2)\n",
            "Collecting memoization>=0.3.1\n",
            "  Downloading memoization-0.4.0.tar.gz (41 kB)\n",
            "\u001b[K     |████████████████████████████████| 41 kB 205 kB/s \n",
            "\u001b[?25hRequirement already satisfied: bokeh>=1.0 in /usr/local/lib/python3.7/dist-packages (from lightKurve) (2.3.3)\n",
            "Requirement already satisfied: pandas>=1.1.4 in /usr/local/lib/python3.7/dist-packages (from lightKurve) (1.1.5)\n",
            "Requirement already satisfied: astropy>=4.1 in /usr/local/lib/python3.7/dist-packages (from lightKurve) (4.3.1)\n",
            "Requirement already satisfied: tqdm>=4.25.0 in /usr/local/lib/python3.7/dist-packages (from lightKurve) (4.62.0)\n",
            "Requirement already satisfied: scipy>=0.19.0 in /usr/local/lib/python3.7/dist-packages (from lightKurve) (1.4.1)\n",
            "Collecting astroquery>=0.3.10\n",
            "  Downloading astroquery-0.4.3-py3-none-any.whl (4.4 MB)\n",
            "\u001b[K     |████████████████████████████████| 4.4 MB 30.4 MB/s \n",
            "\u001b[?25hRequirement already satisfied: requests>=2.22.0 in /usr/local/lib/python3.7/dist-packages (from lightKurve) (2.23.0)\n",
            "Requirement already satisfied: importlib-metadata in /usr/local/lib/python3.7/dist-packages (from astropy>=4.1->lightKurve) (4.6.4)\n",
            "Requirement already satisfied: pyerfa>=1.7.3 in /usr/local/lib/python3.7/dist-packages (from astropy>=4.1->lightKurve) (2.0.0)\n",
            "Collecting pyvo>=1.1\n",
            "  Downloading pyvo-1.1-py3-none-any.whl (802 kB)\n",
            "\u001b[K     |████████████████████████████████| 802 kB 57.2 MB/s \n",
            "\u001b[?25hCollecting keyring>=4.0\n",
            "  Downloading keyring-23.1.0-py3-none-any.whl (32 kB)\n",
            "Requirement already satisfied: html5lib>=0.999 in /usr/local/lib/python3.7/dist-packages (from astroquery>=0.3.10->lightKurve) (1.0.1)\n",
            "Requirement already satisfied: six in /usr/local/lib/python3.7/dist-packages (from astroquery>=0.3.10->lightKurve) (1.15.0)\n",
            "Requirement already satisfied: PyYAML>=3.10 in /usr/local/lib/python3.7/dist-packages (from bokeh>=1.0->lightKurve) (3.13)\n",
            "Requirement already satisfied: packaging>=16.8 in /usr/local/lib/python3.7/dist-packages (from bokeh>=1.0->lightKurve) (21.0)\n",
            "Requirement already satisfied: tornado>=5.1 in /usr/local/lib/python3.7/dist-packages (from bokeh>=1.0->lightKurve) (5.1.1)\n",
            "Requirement already satisfied: pillow>=7.1.0 in /usr/local/lib/python3.7/dist-packages (from bokeh>=1.0->lightKurve) (7.1.2)\n",
            "Requirement already satisfied: Jinja2>=2.9 in /usr/local/lib/python3.7/dist-packages (from bokeh>=1.0->lightKurve) (2.11.3)\n",
            "Requirement already satisfied: python-dateutil>=2.1 in /usr/local/lib/python3.7/dist-packages (from bokeh>=1.0->lightKurve) (2.8.2)\n",
            "Requirement already satisfied: typing-extensions>=3.7.4 in /usr/local/lib/python3.7/dist-packages (from bokeh>=1.0->lightKurve) (3.7.4.3)\n",
            "Requirement already satisfied: webencodings in /usr/local/lib/python3.7/dist-packages (from html5lib>=0.999->astroquery>=0.3.10->lightKurve) (0.5.1)\n",
            "Requirement already satisfied: MarkupSafe>=0.23 in /usr/local/lib/python3.7/dist-packages (from Jinja2>=2.9->bokeh>=1.0->lightKurve) (2.0.1)\n",
            "Collecting jeepney>=0.4.2\n",
            "  Downloading jeepney-0.7.1-py3-none-any.whl (54 kB)\n",
            "\u001b[K     |████████████████████████████████| 54 kB 2.6 MB/s \n",
            "\u001b[?25hCollecting SecretStorage>=3.2\n",
            "  Downloading SecretStorage-3.3.1-py3-none-any.whl (15 kB)\n",
            "Requirement already satisfied: zipp>=0.5 in /usr/local/lib/python3.7/dist-packages (from importlib-metadata->astropy>=4.1->lightKurve) (3.5.0)\n",
            "Requirement already satisfied: pyparsing!=2.0.4,!=2.1.2,!=2.1.6,>=2.0.1 in /usr/local/lib/python3.7/dist-packages (from matplotlib>=1.5.3->lightKurve) (2.4.7)\n",
            "Requirement already satisfied: kiwisolver>=1.0.1 in /usr/local/lib/python3.7/dist-packages (from matplotlib>=1.5.3->lightKurve) (1.3.1)\n",
            "Requirement already satisfied: cycler>=0.10 in /usr/local/lib/python3.7/dist-packages (from matplotlib>=1.5.3->lightKurve) (0.10.0)\n",
            "Requirement already satisfied: autograd in /usr/local/lib/python3.7/dist-packages (from oktopus>=0.1.2->lightKurve) (1.3)\n",
            "Requirement already satisfied: pytz>=2017.2 in /usr/local/lib/python3.7/dist-packages (from pandas>=1.1.4->lightKurve) (2018.9)\n",
            "Collecting mimeparse\n",
            "  Downloading mimeparse-0.1.3.tar.gz (4.4 kB)\n",
            "Requirement already satisfied: certifi>=2017.4.17 in /usr/local/lib/python3.7/dist-packages (from requests>=2.22.0->lightKurve) (2021.5.30)\n",
            "Requirement already satisfied: chardet<4,>=3.0.2 in /usr/local/lib/python3.7/dist-packages (from requests>=2.22.0->lightKurve) (3.0.4)\n",
            "Requirement already satisfied: urllib3!=1.25.0,!=1.25.1,<1.26,>=1.21.1 in /usr/local/lib/python3.7/dist-packages (from requests>=2.22.0->lightKurve) (1.24.3)\n",
            "Requirement already satisfied: idna<3,>=2.5 in /usr/local/lib/python3.7/dist-packages (from requests>=2.22.0->lightKurve) (2.10)\n",
            "Requirement already satisfied: joblib>=0.11 in /usr/local/lib/python3.7/dist-packages (from scikit-learn>=0.24.0->lightKurve) (1.0.1)\n",
            "Collecting threadpoolctl>=2.0.0\n",
            "  Downloading threadpoolctl-2.2.0-py3-none-any.whl (12 kB)\n",
            "Collecting cryptography>=2.0\n",
            "  Downloading cryptography-3.4.8-cp36-abi3-manylinux_2_24_x86_64.whl (3.0 MB)\n",
            "\u001b[K     |████████████████████████████████| 3.0 MB 67.6 MB/s \n",
            "\u001b[?25hRequirement already satisfied: cffi>=1.12 in /usr/local/lib/python3.7/dist-packages (from cryptography>=2.0->SecretStorage>=3.2->keyring>=4.0->astroquery>=0.3.10->lightKurve) (1.14.6)\n",
            "Requirement already satisfied: pycparser in /usr/local/lib/python3.7/dist-packages (from cffi>=1.12->cryptography>=2.0->SecretStorage>=3.2->keyring>=4.0->astroquery>=0.3.10->lightKurve) (2.20)\n",
            "Requirement already satisfied: future in /usr/local/lib/python3.7/dist-packages (from uncertainties>=3.1.4->lightKurve) (0.16.0)\n",
            "Building wheels for collected packages: fbpca, memoization, oktopus, mimeparse\n",
            "  Building wheel for fbpca (setup.py) ... \u001b[?25l\u001b[?25hdone\n",
            "  Created wheel for fbpca: filename=fbpca-1.0-py3-none-any.whl size=11376 sha256=5defffbdbb7bf941e7c7b5d733c8956c1777b2c49a65ba84f704e6fb39cab5e0\n",
            "  Stored in directory: /root/.cache/pip/wheels/93/08/0c/1b9866c35c8d3f136d100dfe88036a32e0795437daca089f70\n",
            "  Building wheel for memoization (setup.py) ... \u001b[?25l\u001b[?25hdone\n",
            "  Created wheel for memoization: filename=memoization-0.4.0-py3-none-any.whl size=50466 sha256=d38fa0fadc7ae5acc13429d14db4913e4bce3351c7ddea4e84c76c6e059d4374\n",
            "  Stored in directory: /root/.cache/pip/wheels/38/f7/65/161985e7311dd484a23b3a5c9149995dbf11db6cede602e7ef\n",
            "  Building wheel for oktopus (setup.py) ... \u001b[?25l\u001b[?25hdone\n",
            "  Created wheel for oktopus: filename=oktopus-0.1.2-py3-none-any.whl size=12778 sha256=f463f822869b8efae7d5e772809dd102198b3891efe256ce0f0fe6381d52ae3e\n",
            "  Stored in directory: /root/.cache/pip/wheels/19/22/e3/6d224a32d6f94f28113d6d26c8bef81d7e05978d0efed29517\n",
            "  Building wheel for mimeparse (setup.py) ... \u001b[?25l\u001b[?25hdone\n",
            "  Created wheel for mimeparse: filename=mimeparse-0.1.3-py3-none-any.whl size=3864 sha256=bca39cb99dd08881f26fd899d3d2ec394ae1ee5d6bf7755015bd810775866374\n",
            "  Stored in directory: /root/.cache/pip/wheels/49/b4/2d/0081759ae1833bd694024801f7aacddcda8a687e8d5fbaeebd\n",
            "Successfully built fbpca memoization oktopus mimeparse\n",
            "Installing collected packages: jeepney, cryptography, SecretStorage, mimeparse, threadpoolctl, pyvo, keyring, uncertainties, scikit-learn, oktopus, memoization, fbpca, astroquery, lightKurve\n",
            "  Attempting uninstall: scikit-learn\n",
            "    Found existing installation: scikit-learn 0.22.2.post1\n",
            "    Uninstalling scikit-learn-0.22.2.post1:\n",
            "      Successfully uninstalled scikit-learn-0.22.2.post1\n",
            "Successfully installed SecretStorage-3.3.1 astroquery-0.4.3 cryptography-3.4.8 fbpca-1.0 jeepney-0.7.1 keyring-23.1.0 lightKurve-2.0.10 memoization-0.4.0 mimeparse-0.1.3 oktopus-0.1.2 pyvo-1.1 scikit-learn-0.24.2 threadpoolctl-2.2.0 uncertainties-3.1.6\n"
          ],
          "name": "stdout"
        }
      ]
    },
    {
      "cell_type": "code",
      "metadata": {
        "id": "5BnTcQ-CB4iQ"
      },
      "source": [
        "import lightkurve"
      ],
      "execution_count": 2,
      "outputs": []
    },
    {
      "cell_type": "code",
      "metadata": {
        "id": "EDSeJInBNEu_"
      },
      "source": [
        "from lightkurve import search_lightcurve"
      ],
      "execution_count": 3,
      "outputs": []
    },
    {
      "cell_type": "code",
      "metadata": {
        "id": "jPgOBkkbVt9Y"
      },
      "source": [
        "l=['β Dor','RU Dor','OGLE LMC-CEP-046','OGLE LMC-CEP-227','SX Tuc','SW Tuc','AT Tuc','TT Tuc']"
      ],
      "execution_count": 4,
      "outputs": []
    },
    {
      "cell_type": "code",
      "metadata": {
        "id": "XFfV0p6-Eo9a"
      },
      "source": [
        "def sea(x):\n",
        "  search_result = search_lightcurve(x)\n",
        "  return [x,len(search_result)]  "
      ],
      "execution_count": 5,
      "outputs": []
    },
    {
      "cell_type": "code",
      "metadata": {
        "colab": {
          "base_uri": "https://localhost:8080/"
        },
        "id": "la_6XGriWQ3_",
        "outputId": "06e594b4-f147-4c9b-d3a3-4e644d8923b4"
      },
      "source": [
        "for x in l:\n",
        "  print(sea(x))"
      ],
      "execution_count": 6,
      "outputs": [
        {
          "output_type": "stream",
          "text": [
            "['β Dor', 52]\n",
            "['RU Dor', 2]\n",
            "['OGLE LMC-CEP-046', 2]\n"
          ],
          "name": "stdout"
        },
        {
          "output_type": "stream",
          "text": [
            "No data found for target \"OGLE LMC-CEP-227\".\n"
          ],
          "name": "stderr"
        },
        {
          "output_type": "stream",
          "text": [
            "['OGLE LMC-CEP-227', 0]\n",
            "['SX Tuc', 2]\n"
          ],
          "name": "stdout"
        },
        {
          "output_type": "stream",
          "text": [
            "No data found for target \"SW Tuc\".\n"
          ],
          "name": "stderr"
        },
        {
          "output_type": "stream",
          "text": [
            "['SW Tuc', 0]\n",
            "['AT Tuc', 1]\n"
          ],
          "name": "stdout"
        },
        {
          "output_type": "stream",
          "text": [
            "No data found for target \"TT Tuc\".\n"
          ],
          "name": "stderr"
        },
        {
          "output_type": "stream",
          "text": [
            "['TT Tuc', 0]\n"
          ],
          "name": "stdout"
        }
      ]
    },
    {
      "cell_type": "code",
      "metadata": {
        "id": "xCmLsh49bsMZ"
      },
      "source": [
        "import pandas as pd"
      ],
      "execution_count": 7,
      "outputs": []
    },
    {
      "cell_type": "code",
      "metadata": {
        "id": "2L7zjny6bPOo"
      },
      "source": [
        "def se(x):\n",
        "  search_result = search_lightcurve(x)\n",
        "  return len(search_result)  "
      ],
      "execution_count": 8,
      "outputs": []
    },
    {
      "cell_type": "code",
      "metadata": {
        "colab": {
          "base_uri": "https://localhost:8080/"
        },
        "id": "NoNUJ3gzcj_Z",
        "outputId": "728c35d5-d7ce-4f2a-cd9a-df6e4ba4cc47"
      },
      "source": [
        "\n",
        "for x in l:\n",
        "  j=se(x)\n",
        "  print(j)"
      ],
      "execution_count": 9,
      "outputs": [
        {
          "output_type": "stream",
          "text": [
            "52\n",
            "2\n",
            "2\n",
            "0\n",
            "2\n",
            "0\n",
            "1\n",
            "0\n"
          ],
          "name": "stdout"
        }
      ]
    },
    {
      "cell_type": "code",
      "metadata": {
        "id": "ZxuOIGOofcY2"
      },
      "source": [
        "FCEP= pd.DataFrame({\"Name\": l,\"No_data\":[52,2,2,0,2,0,1,0]})"
      ],
      "execution_count": 62,
      "outputs": []
    },
    {
      "cell_type": "code",
      "metadata": {
        "colab": {
          "base_uri": "https://localhost:8080/",
          "height": 297
        },
        "id": "nhfpOZ1N61QR",
        "outputId": "a2c83759-332d-4f00-f4c9-51f3a57f32cb"
      },
      "source": [
        "FCEP['Type']=pd.Series(['Fundamental-mode Cepheids' for x in range(len(FCEP.index))])\n",
        "FCEP"
      ],
      "execution_count": 73,
      "outputs": [
        {
          "output_type": "execute_result",
          "data": {
            "text/html": [
              "<div>\n",
              "<style scoped>\n",
              "    .dataframe tbody tr th:only-of-type {\n",
              "        vertical-align: middle;\n",
              "    }\n",
              "\n",
              "    .dataframe tbody tr th {\n",
              "        vertical-align: top;\n",
              "    }\n",
              "\n",
              "    .dataframe thead th {\n",
              "        text-align: right;\n",
              "    }\n",
              "</style>\n",
              "<table border=\"1\" class=\"dataframe\">\n",
              "  <thead>\n",
              "    <tr style=\"text-align: right;\">\n",
              "      <th></th>\n",
              "      <th>Name</th>\n",
              "      <th>No_data</th>\n",
              "      <th>Type</th>\n",
              "    </tr>\n",
              "  </thead>\n",
              "  <tbody>\n",
              "    <tr>\n",
              "      <th>0</th>\n",
              "      <td>β Dor</td>\n",
              "      <td>52</td>\n",
              "      <td>Fundamental-mode Cepheids</td>\n",
              "    </tr>\n",
              "    <tr>\n",
              "      <th>1</th>\n",
              "      <td>RU Dor</td>\n",
              "      <td>2</td>\n",
              "      <td>Fundamental-mode Cepheids</td>\n",
              "    </tr>\n",
              "    <tr>\n",
              "      <th>2</th>\n",
              "      <td>OGLE LMC-CEP-046</td>\n",
              "      <td>2</td>\n",
              "      <td>Fundamental-mode Cepheids</td>\n",
              "    </tr>\n",
              "    <tr>\n",
              "      <th>3</th>\n",
              "      <td>OGLE LMC-CEP-227</td>\n",
              "      <td>0</td>\n",
              "      <td>Fundamental-mode Cepheids</td>\n",
              "    </tr>\n",
              "    <tr>\n",
              "      <th>4</th>\n",
              "      <td>SX Tuc</td>\n",
              "      <td>2</td>\n",
              "      <td>Fundamental-mode Cepheids</td>\n",
              "    </tr>\n",
              "    <tr>\n",
              "      <th>5</th>\n",
              "      <td>SW Tuc</td>\n",
              "      <td>0</td>\n",
              "      <td>Fundamental-mode Cepheids</td>\n",
              "    </tr>\n",
              "    <tr>\n",
              "      <th>6</th>\n",
              "      <td>AT Tuc</td>\n",
              "      <td>1</td>\n",
              "      <td>Fundamental-mode Cepheids</td>\n",
              "    </tr>\n",
              "    <tr>\n",
              "      <th>7</th>\n",
              "      <td>TT Tuc</td>\n",
              "      <td>0</td>\n",
              "      <td>Fundamental-mode Cepheids</td>\n",
              "    </tr>\n",
              "  </tbody>\n",
              "</table>\n",
              "</div>"
            ],
            "text/plain": [
              "               Name  No_data                       Type\n",
              "0             β Dor       52  Fundamental-mode Cepheids\n",
              "1            RU Dor        2  Fundamental-mode Cepheids\n",
              "2  OGLE LMC-CEP-046        2  Fundamental-mode Cepheids\n",
              "3  OGLE LMC-CEP-227        0  Fundamental-mode Cepheids\n",
              "4            SX Tuc        2  Fundamental-mode Cepheids\n",
              "5            SW Tuc        0  Fundamental-mode Cepheids\n",
              "6            AT Tuc        1  Fundamental-mode Cepheids\n",
              "7            TT Tuc        0  Fundamental-mode Cepheids"
            ]
          },
          "metadata": {},
          "execution_count": 73
        }
      ]
    },
    {
      "cell_type": "markdown",
      "metadata": {
        "id": "dkZJf-8ApPIT"
      },
      "source": [
        "First-overtone classical cepheid"
      ]
    },
    {
      "cell_type": "code",
      "metadata": {
        "id": "ctNnjWwVpA-t"
      },
      "source": [
        "n=['OGLE LMC-CEP-3377','OGLE SMC-CEP-4955','OGLE SMC-CEP-4952']"
      ],
      "execution_count": 11,
      "outputs": []
    },
    {
      "cell_type": "code",
      "metadata": {
        "colab": {
          "base_uri": "https://localhost:8080/"
        },
        "id": "0P8NuMh4pNPD",
        "outputId": "f3deb4d6-6875-4173-9c85-17808e0eba5d"
      },
      "source": [
        "for i in n:\n",
        "  print(se(i))"
      ],
      "execution_count": 12,
      "outputs": [
        {
          "output_type": "stream",
          "text": [
            "2\n"
          ],
          "name": "stdout"
        },
        {
          "output_type": "stream",
          "text": [
            "No data found for target \"OGLE SMC-CEP-4955\".\n"
          ],
          "name": "stderr"
        },
        {
          "output_type": "stream",
          "text": [
            "0\n"
          ],
          "name": "stdout"
        },
        {
          "output_type": "stream",
          "text": [
            "No data found for target \"OGLE SMC-CEP-4952\".\n"
          ],
          "name": "stderr"
        },
        {
          "output_type": "stream",
          "text": [
            "0\n"
          ],
          "name": "stdout"
        }
      ]
    },
    {
      "cell_type": "code",
      "metadata": {
        "colab": {
          "base_uri": "https://localhost:8080/",
          "height": 142
        },
        "id": "Iz3bKTzuqlCI",
        "outputId": "f60330db-c761-4c71-e8a5-96e1fec02d1d"
      },
      "source": [
        "DCEP_F=pd.DataFrame({\"Name\":n,\"No_data\":[2,0,0]})\n",
        "DCEP_F['Type']=pd.Series(['First-overtone mode Cepheids' for x in range(len(DCEP_F.index))])\n",
        "DCEP_F"
      ],
      "execution_count": 64,
      "outputs": [
        {
          "output_type": "execute_result",
          "data": {
            "text/html": [
              "<div>\n",
              "<style scoped>\n",
              "    .dataframe tbody tr th:only-of-type {\n",
              "        vertical-align: middle;\n",
              "    }\n",
              "\n",
              "    .dataframe tbody tr th {\n",
              "        vertical-align: top;\n",
              "    }\n",
              "\n",
              "    .dataframe thead th {\n",
              "        text-align: right;\n",
              "    }\n",
              "</style>\n",
              "<table border=\"1\" class=\"dataframe\">\n",
              "  <thead>\n",
              "    <tr style=\"text-align: right;\">\n",
              "      <th></th>\n",
              "      <th>Name</th>\n",
              "      <th>No_data</th>\n",
              "      <th>Type</th>\n",
              "    </tr>\n",
              "  </thead>\n",
              "  <tbody>\n",
              "    <tr>\n",
              "      <th>0</th>\n",
              "      <td>OGLE LMC-CEP-3377</td>\n",
              "      <td>2</td>\n",
              "      <td>First-overtone mode Cepheids</td>\n",
              "    </tr>\n",
              "    <tr>\n",
              "      <th>1</th>\n",
              "      <td>OGLE SMC-CEP-4955</td>\n",
              "      <td>0</td>\n",
              "      <td>First-overtone mode Cepheids</td>\n",
              "    </tr>\n",
              "    <tr>\n",
              "      <th>2</th>\n",
              "      <td>OGLE SMC-CEP-4952</td>\n",
              "      <td>0</td>\n",
              "      <td>First-overtone mode Cepheids</td>\n",
              "    </tr>\n",
              "  </tbody>\n",
              "</table>\n",
              "</div>"
            ],
            "text/plain": [
              "                Name  No_data                          Type\n",
              "0  OGLE LMC-CEP-3377        2  First-overtone mode Cepheids\n",
              "1  OGLE SMC-CEP-4955        0  First-overtone mode Cepheids\n",
              "2  OGLE SMC-CEP-4952        0  First-overtone mode Cepheids"
            ]
          },
          "metadata": {},
          "execution_count": 64
        }
      ]
    },
    {
      "cell_type": "code",
      "metadata": {
        "id": "Dfr-wvHBrbWO"
      },
      "source": [
        "def data_result(x):\n",
        "  return search_lightcurve(x)\n"
      ],
      "execution_count": 15,
      "outputs": []
    },
    {
      "cell_type": "markdown",
      "metadata": {
        "id": "i0e6qdWP4_j-"
      },
      "source": [
        "Multi-mode classic cepheid variable star"
      ]
    },
    {
      "cell_type": "code",
      "metadata": {
        "colab": {
          "base_uri": "https://localhost:8080/",
          "height": 51
        },
        "id": "km3TfrSh5IiP",
        "outputId": "c7c8a541-e25c-4ac3-933d-add4badd0938"
      },
      "source": [
        "g=['OGLE LMC-CEP-4419','OGLE SMC-CEP-4951']\n",
        "data_result('OGLE SMC-CEP-4951')"
      ],
      "execution_count": 56,
      "outputs": [
        {
          "output_type": "stream",
          "text": [
            "No data found for target \"OGLE SMC-CEP-4951\".\n"
          ],
          "name": "stderr"
        },
        {
          "output_type": "execute_result",
          "data": {
            "text/html": [
              "SearchResult containing 0 data products."
            ],
            "text/plain": [
              "SearchResult containing 0 data products."
            ]
          },
          "metadata": {},
          "execution_count": 56
        }
      ]
    },
    {
      "cell_type": "code",
      "metadata": {
        "colab": {
          "base_uri": "https://localhost:8080/",
          "height": 111
        },
        "id": "jdsild2o5rSd",
        "outputId": "fdb9b6e8-2396-4331-eb6b-605f44c0a231"
      },
      "source": [
        "MDCEP=pd.DataFrame({\"Name\":g,\"No_data\":[0,0]})\n",
        "MDCEP['Type']=pd.Series(['Multi mode Cepheids' for x in range(len(MDCEP.index))])\n",
        "MDCEP\n",
        "\n"
      ],
      "execution_count": 65,
      "outputs": [
        {
          "output_type": "execute_result",
          "data": {
            "text/html": [
              "<div>\n",
              "<style scoped>\n",
              "    .dataframe tbody tr th:only-of-type {\n",
              "        vertical-align: middle;\n",
              "    }\n",
              "\n",
              "    .dataframe tbody tr th {\n",
              "        vertical-align: top;\n",
              "    }\n",
              "\n",
              "    .dataframe thead th {\n",
              "        text-align: right;\n",
              "    }\n",
              "</style>\n",
              "<table border=\"1\" class=\"dataframe\">\n",
              "  <thead>\n",
              "    <tr style=\"text-align: right;\">\n",
              "      <th></th>\n",
              "      <th>Name</th>\n",
              "      <th>No_data</th>\n",
              "      <th>Type</th>\n",
              "    </tr>\n",
              "  </thead>\n",
              "  <tbody>\n",
              "    <tr>\n",
              "      <th>0</th>\n",
              "      <td>OGLE LMC-CEP-4419</td>\n",
              "      <td>0</td>\n",
              "      <td>Multi mode Cepheids</td>\n",
              "    </tr>\n",
              "    <tr>\n",
              "      <th>1</th>\n",
              "      <td>OGLE SMC-CEP-4951</td>\n",
              "      <td>0</td>\n",
              "      <td>Multi mode Cepheids</td>\n",
              "    </tr>\n",
              "  </tbody>\n",
              "</table>\n",
              "</div>"
            ],
            "text/plain": [
              "                Name  No_data                 Type\n",
              "0  OGLE LMC-CEP-4419        0  Multi mode Cepheids\n",
              "1  OGLE SMC-CEP-4951        0  Multi mode Cepheids"
            ]
          },
          "metadata": {},
          "execution_count": 65
        }
      ]
    },
    {
      "cell_type": "markdown",
      "metadata": {
        "id": "BGYRHRPXeeo_"
      },
      "source": [
        "Fundamental-mode anomalousCepheid"
      ]
    },
    {
      "cell_type": "code",
      "metadata": {
        "id": "U7tVAx-IebQr"
      },
      "source": [
        "k=['UY Eri','OGLE GAL-ACEP-006','SS Gru','DF Hyi','WX Tuc','VV Gru','AV Gru']"
      ],
      "execution_count": 25,
      "outputs": []
    },
    {
      "cell_type": "code",
      "metadata": {
        "colab": {
          "base_uri": "https://localhost:8080/"
        },
        "id": "TBLMJ19Jd_8O",
        "outputId": "1ef7a495-9b0e-4050-8d96-b07c3865d01e"
      },
      "source": [
        "for i in k:\n",
        "  print(se(i))"
      ],
      "execution_count": 27,
      "outputs": [
        {
          "output_type": "stream",
          "text": [
            "3\n",
            "18\n",
            "4\n",
            "1\n",
            "2\n",
            "1\n"
          ],
          "name": "stdout"
        },
        {
          "output_type": "stream",
          "text": [
            "No data found for target \"AV Gru\".\n"
          ],
          "name": "stderr"
        },
        {
          "output_type": "stream",
          "text": [
            "0\n"
          ],
          "name": "stdout"
        }
      ]
    },
    {
      "cell_type": "code",
      "metadata": {
        "colab": {
          "base_uri": "https://localhost:8080/",
          "height": 266
        },
        "id": "BNxqOx6NhMZo",
        "outputId": "9b52b5d4-ee84-44dc-8c3e-27fbc68ddd79"
      },
      "source": [
        "ACEP_F=pd.DataFrame({\"Name\":k,\"No_data\":[3,18,4,1,2,1,0]})\n",
        "ACEP_F['Type']=pd.Series(['Fundamental Anomalous Cepheids' for x in range(len(ACEP_F.index))])\n",
        "ACEP_F"
      ],
      "execution_count": 67,
      "outputs": [
        {
          "output_type": "execute_result",
          "data": {
            "text/html": [
              "<div>\n",
              "<style scoped>\n",
              "    .dataframe tbody tr th:only-of-type {\n",
              "        vertical-align: middle;\n",
              "    }\n",
              "\n",
              "    .dataframe tbody tr th {\n",
              "        vertical-align: top;\n",
              "    }\n",
              "\n",
              "    .dataframe thead th {\n",
              "        text-align: right;\n",
              "    }\n",
              "</style>\n",
              "<table border=\"1\" class=\"dataframe\">\n",
              "  <thead>\n",
              "    <tr style=\"text-align: right;\">\n",
              "      <th></th>\n",
              "      <th>Name</th>\n",
              "      <th>No_data</th>\n",
              "      <th>Type</th>\n",
              "    </tr>\n",
              "  </thead>\n",
              "  <tbody>\n",
              "    <tr>\n",
              "      <th>0</th>\n",
              "      <td>UY Eri</td>\n",
              "      <td>3</td>\n",
              "      <td>Fundamental Anomalous Cepheids</td>\n",
              "    </tr>\n",
              "    <tr>\n",
              "      <th>1</th>\n",
              "      <td>OGLE GAL-ACEP-006</td>\n",
              "      <td>18</td>\n",
              "      <td>Fundamental Anomalous Cepheids</td>\n",
              "    </tr>\n",
              "    <tr>\n",
              "      <th>2</th>\n",
              "      <td>SS Gru</td>\n",
              "      <td>4</td>\n",
              "      <td>Fundamental Anomalous Cepheids</td>\n",
              "    </tr>\n",
              "    <tr>\n",
              "      <th>3</th>\n",
              "      <td>DF Hyi</td>\n",
              "      <td>1</td>\n",
              "      <td>Fundamental Anomalous Cepheids</td>\n",
              "    </tr>\n",
              "    <tr>\n",
              "      <th>4</th>\n",
              "      <td>WX Tuc</td>\n",
              "      <td>2</td>\n",
              "      <td>Fundamental Anomalous Cepheids</td>\n",
              "    </tr>\n",
              "    <tr>\n",
              "      <th>5</th>\n",
              "      <td>VV Gru</td>\n",
              "      <td>1</td>\n",
              "      <td>Fundamental Anomalous Cepheids</td>\n",
              "    </tr>\n",
              "    <tr>\n",
              "      <th>6</th>\n",
              "      <td>AV Gru</td>\n",
              "      <td>0</td>\n",
              "      <td>Fundamental Anomalous Cepheids</td>\n",
              "    </tr>\n",
              "  </tbody>\n",
              "</table>\n",
              "</div>"
            ],
            "text/plain": [
              "                Name  No_data                            Type\n",
              "0             UY Eri        3  Fundamental Anomalous Cepheids\n",
              "1  OGLE GAL-ACEP-006       18  Fundamental Anomalous Cepheids\n",
              "2             SS Gru        4  Fundamental Anomalous Cepheids\n",
              "3             DF Hyi        1  Fundamental Anomalous Cepheids\n",
              "4             WX Tuc        2  Fundamental Anomalous Cepheids\n",
              "5             VV Gru        1  Fundamental Anomalous Cepheids\n",
              "6             AV Gru        0  Fundamental Anomalous Cepheids"
            ]
          },
          "metadata": {},
          "execution_count": 67
        }
      ]
    },
    {
      "cell_type": "markdown",
      "metadata": {
        "id": "aMFqY0YPhuRc"
      },
      "source": [
        "first-overtone anomalous Cepheid"
      ]
    },
    {
      "cell_type": "code",
      "metadata": {
        "id": "YrQgvKlChrWS"
      },
      "source": [
        "w=['XZ Cet','AK PsA']"
      ],
      "execution_count": 42,
      "outputs": []
    },
    {
      "cell_type": "code",
      "metadata": {
        "colab": {
          "base_uri": "https://localhost:8080/",
          "height": 111
        },
        "id": "eoIMKsaNyBhR",
        "outputId": "0c192db6-05d3-48ca-8ca8-ad7e8bee8f74"
      },
      "source": [
        "ACEP_O=pd.DataFrame({\"Name\":w,\"No_data\":[5,3]})\n",
        "ACEP_O['Type']=pd.Series(['Fist-overtone Anomalous Cepheids' for x in range(len(ACEP_O.index))])\n",
        "ACEP_O"
      ],
      "execution_count": 68,
      "outputs": [
        {
          "output_type": "execute_result",
          "data": {
            "text/html": [
              "<div>\n",
              "<style scoped>\n",
              "    .dataframe tbody tr th:only-of-type {\n",
              "        vertical-align: middle;\n",
              "    }\n",
              "\n",
              "    .dataframe tbody tr th {\n",
              "        vertical-align: top;\n",
              "    }\n",
              "\n",
              "    .dataframe thead th {\n",
              "        text-align: right;\n",
              "    }\n",
              "</style>\n",
              "<table border=\"1\" class=\"dataframe\">\n",
              "  <thead>\n",
              "    <tr style=\"text-align: right;\">\n",
              "      <th></th>\n",
              "      <th>Name</th>\n",
              "      <th>No_data</th>\n",
              "      <th>Type</th>\n",
              "    </tr>\n",
              "  </thead>\n",
              "  <tbody>\n",
              "    <tr>\n",
              "      <th>0</th>\n",
              "      <td>XZ Cet</td>\n",
              "      <td>5</td>\n",
              "      <td>Fist-overtone Anomalous Cepheids</td>\n",
              "    </tr>\n",
              "    <tr>\n",
              "      <th>1</th>\n",
              "      <td>AK PsA</td>\n",
              "      <td>3</td>\n",
              "      <td>Fist-overtone Anomalous Cepheids</td>\n",
              "    </tr>\n",
              "  </tbody>\n",
              "</table>\n",
              "</div>"
            ],
            "text/plain": [
              "     Name  No_data                              Type\n",
              "0  XZ Cet        5  Fist-overtone Anomalous Cepheids\n",
              "1  AK PsA        3  Fist-overtone Anomalous Cepheids"
            ]
          },
          "metadata": {},
          "execution_count": 68
        }
      ]
    },
    {
      "cell_type": "markdown",
      "metadata": {
        "id": "H2JMuvbnycQc"
      },
      "source": [
        "BL Her type"
      ]
    },
    {
      "cell_type": "code",
      "metadata": {
        "colab": {
          "base_uri": "https://localhost:8080/",
          "height": 162
        },
        "id": "frslhphKyg5t",
        "outputId": "1e35da17-572b-454e-e285-23f8e5a75355"
      },
      "source": [
        "data_result(\"AA Gru\")"
      ],
      "execution_count": 45,
      "outputs": [
        {
          "output_type": "execute_result",
          "data": {
            "text/html": [
              "SearchResult containing 4 data products.\n",
              "\n",
              "<table id=\"table140696879509584\">\n",
              "<thead><tr><th>#</th><th>mission</th><th>year</th><th>author</th><th>exptime</th><th>target_name</th><th>distance</th></tr></thead>\n",
              "<thead><tr><th></th><th></th><th></th><th></th><th>s</th><th></th><th>arcsec</th></tr></thead>\n",
              "<tr><td>0</td><td>TESS Sector 01</td><td>2018</td><td><a href='https://archive.stsci.edu/hlsp/qlp'>QLP</a></td><td>1800</td><td>121469834</td><td>0.0</td></tr>\n",
              "<tr><td>1</td><td>TESS Sector 01</td><td>2018</td><td><a href='https://archive.stsci.edu/hlsp/tasoc'>TASOC</a></td><td>1800</td><td>121469834</td><td>0.0</td></tr>\n",
              "<tr><td>2</td><td>TESS Sector 28</td><td>2020</td><td><a href='https://heasarc.gsfc.nasa.gov/docs/tess/pipeline.html'>SPOC</a></td><td>120</td><td>121469834</td><td>0.0</td></tr>\n",
              "<tr><td>3</td><td>TESS Sector 28</td><td>2020</td><td><a href='https://archive.stsci.edu/hlsp/tess-spoc'>TESS-SPOC</a></td><td>600</td><td>121469834</td><td>0.0</td></tr>\n",
              "</table>"
            ],
            "text/plain": [
              "SearchResult containing 4 data products.\n",
              "\n",
              " #     mission     year   author  exptime target_name distance\n",
              "                                     s                 arcsec \n",
              "--- -------------- ---- --------- ------- ----------- --------\n",
              "  0 TESS Sector 01 2018       QLP    1800   121469834      0.0\n",
              "  1 TESS Sector 01 2018     TASOC    1800   121469834      0.0\n",
              "  2 TESS Sector 28 2020      SPOC     120   121469834      0.0\n",
              "  3 TESS Sector 28 2020 TESS-SPOC     600   121469834      0.0"
            ]
          },
          "metadata": {},
          "execution_count": 45
        }
      ]
    },
    {
      "cell_type": "code",
      "metadata": {
        "colab": {
          "base_uri": "https://localhost:8080/",
          "height": 80
        },
        "id": "-y95afXKy0SN",
        "outputId": "4bbf0538-2a54-4fc4-fea7-b9cf84c2c771"
      },
      "source": [
        "BLH=pd.DataFrame({\"Name\":['AA Gru'],\"No_data\":[4],\"Type\":['BL her type']})\n",
        "BLH"
      ],
      "execution_count": 69,
      "outputs": [
        {
          "output_type": "execute_result",
          "data": {
            "text/html": [
              "<div>\n",
              "<style scoped>\n",
              "    .dataframe tbody tr th:only-of-type {\n",
              "        vertical-align: middle;\n",
              "    }\n",
              "\n",
              "    .dataframe tbody tr th {\n",
              "        vertical-align: top;\n",
              "    }\n",
              "\n",
              "    .dataframe thead th {\n",
              "        text-align: right;\n",
              "    }\n",
              "</style>\n",
              "<table border=\"1\" class=\"dataframe\">\n",
              "  <thead>\n",
              "    <tr style=\"text-align: right;\">\n",
              "      <th></th>\n",
              "      <th>Name</th>\n",
              "      <th>No_data</th>\n",
              "      <th>Type</th>\n",
              "    </tr>\n",
              "  </thead>\n",
              "  <tbody>\n",
              "    <tr>\n",
              "      <th>0</th>\n",
              "      <td>AA Gru</td>\n",
              "      <td>4</td>\n",
              "      <td>BL her type</td>\n",
              "    </tr>\n",
              "  </tbody>\n",
              "</table>\n",
              "</div>"
            ],
            "text/plain": [
              "     Name  No_data         Type\n",
              "0  AA Gru        4  BL her type"
            ]
          },
          "metadata": {},
          "execution_count": 69
        }
      ]
    },
    {
      "cell_type": "markdown",
      "metadata": {
        "id": "GobbCYR31ibN"
      },
      "source": [
        "peculiar W Vir type"
      ]
    },
    {
      "cell_type": "code",
      "metadata": {
        "id": "orj6X1rf1hN9"
      },
      "source": [
        "v= ['OGLE LMC-T2CEP-023','OGLE LMC-T2CEP-280']"
      ],
      "execution_count": 47,
      "outputs": []
    },
    {
      "cell_type": "code",
      "metadata": {
        "colab": {
          "base_uri": "https://localhost:8080/",
          "height": 99
        },
        "id": "jdUiCou6zSfP",
        "outputId": "46d328ce-1146-433d-f0a7-f6d477313e14"
      },
      "source": [
        "data_result('OGLE LMC-T2CEP-023')"
      ],
      "execution_count": 49,
      "outputs": [
        {
          "output_type": "execute_result",
          "data": {
            "text/html": [
              "SearchResult containing 1 data products.\n",
              "\n",
              "<table id=\"table140696879505808\">\n",
              "<thead><tr><th>#</th><th>mission</th><th>year</th><th>author</th><th>exptime</th><th>target_name</th><th>distance</th></tr></thead>\n",
              "<thead><tr><th></th><th></th><th></th><th></th><th>s</th><th></th><th>arcsec</th></tr></thead>\n",
              "<tr><td>0</td><td>TESS Sector 01</td><td>2018</td><td><a href='https://archive.stsci.edu/hlsp/tasoc'>TASOC</a></td><td>1800</td><td>30473464</td><td>0.0</td></tr>\n",
              "</table>"
            ],
            "text/plain": [
              "SearchResult containing 1 data products.\n",
              "\n",
              " #     mission     year author exptime target_name distance\n",
              "                                  s                 arcsec \n",
              "--- -------------- ---- ------ ------- ----------- --------\n",
              "  0 TESS Sector 01 2018  TASOC    1800    30473464      0.0"
            ]
          },
          "metadata": {},
          "execution_count": 49
        }
      ]
    },
    {
      "cell_type": "code",
      "metadata": {
        "colab": {
          "base_uri": "https://localhost:8080/",
          "height": 111
        },
        "id": "tp1-YwdR2Pw1",
        "outputId": "b20db094-40f7-4f1a-bddb-53105fbf4dfa"
      },
      "source": [
        "PWV=pd.DataFrame({\"Name\":v,\"No_data\":[0,1],\"Type\":['peculiar W Vir type','peculiar W Vir type']})\n",
        "PWV"
      ],
      "execution_count": 71,
      "outputs": [
        {
          "output_type": "execute_result",
          "data": {
            "text/html": [
              "<div>\n",
              "<style scoped>\n",
              "    .dataframe tbody tr th:only-of-type {\n",
              "        vertical-align: middle;\n",
              "    }\n",
              "\n",
              "    .dataframe tbody tr th {\n",
              "        vertical-align: top;\n",
              "    }\n",
              "\n",
              "    .dataframe thead th {\n",
              "        text-align: right;\n",
              "    }\n",
              "</style>\n",
              "<table border=\"1\" class=\"dataframe\">\n",
              "  <thead>\n",
              "    <tr style=\"text-align: right;\">\n",
              "      <th></th>\n",
              "      <th>Name</th>\n",
              "      <th>No_data</th>\n",
              "      <th>Type</th>\n",
              "    </tr>\n",
              "  </thead>\n",
              "  <tbody>\n",
              "    <tr>\n",
              "      <th>0</th>\n",
              "      <td>OGLE LMC-T2CEP-023</td>\n",
              "      <td>0</td>\n",
              "      <td>peculiar W Vir type</td>\n",
              "    </tr>\n",
              "    <tr>\n",
              "      <th>1</th>\n",
              "      <td>OGLE LMC-T2CEP-280</td>\n",
              "      <td>1</td>\n",
              "      <td>peculiar W Vir type</td>\n",
              "    </tr>\n",
              "  </tbody>\n",
              "</table>\n",
              "</div>"
            ],
            "text/plain": [
              "                 Name  No_data                 Type\n",
              "0  OGLE LMC-T2CEP-023        0  peculiar W Vir type\n",
              "1  OGLE LMC-T2CEP-280        1  peculiar W Vir type"
            ]
          },
          "metadata": {},
          "execution_count": 71
        }
      ]
    },
    {
      "cell_type": "markdown",
      "metadata": {
        "id": "X87Ej9PV2y53"
      },
      "source": [
        "All cepheid variaable stars discovered by TESS with availiabilty of data using LightKurve Library "
      ]
    },
    {
      "cell_type": "code",
      "metadata": {
        "colab": {
          "base_uri": "https://localhost:8080/",
          "height": 824
        },
        "id": "Dz7xqz9H3CEH",
        "outputId": "da921fff-0d57-4f2b-d3c0-cda1e3e2523e"
      },
      "source": [
        "CEP=pd.concat([FCEP,DCEP_F,MDCEP,ACEP_F,ACEP_O,BLH,PWV],ignore_index=True)\n",
        "CEP"
      ],
      "execution_count": 74,
      "outputs": [
        {
          "output_type": "execute_result",
          "data": {
            "text/html": [
              "<div>\n",
              "<style scoped>\n",
              "    .dataframe tbody tr th:only-of-type {\n",
              "        vertical-align: middle;\n",
              "    }\n",
              "\n",
              "    .dataframe tbody tr th {\n",
              "        vertical-align: top;\n",
              "    }\n",
              "\n",
              "    .dataframe thead th {\n",
              "        text-align: right;\n",
              "    }\n",
              "</style>\n",
              "<table border=\"1\" class=\"dataframe\">\n",
              "  <thead>\n",
              "    <tr style=\"text-align: right;\">\n",
              "      <th></th>\n",
              "      <th>Name</th>\n",
              "      <th>No_data</th>\n",
              "      <th>Type</th>\n",
              "    </tr>\n",
              "  </thead>\n",
              "  <tbody>\n",
              "    <tr>\n",
              "      <th>0</th>\n",
              "      <td>β Dor</td>\n",
              "      <td>52</td>\n",
              "      <td>Fundamental-mode Cepheids</td>\n",
              "    </tr>\n",
              "    <tr>\n",
              "      <th>1</th>\n",
              "      <td>RU Dor</td>\n",
              "      <td>2</td>\n",
              "      <td>Fundamental-mode Cepheids</td>\n",
              "    </tr>\n",
              "    <tr>\n",
              "      <th>2</th>\n",
              "      <td>OGLE LMC-CEP-046</td>\n",
              "      <td>2</td>\n",
              "      <td>Fundamental-mode Cepheids</td>\n",
              "    </tr>\n",
              "    <tr>\n",
              "      <th>3</th>\n",
              "      <td>OGLE LMC-CEP-227</td>\n",
              "      <td>0</td>\n",
              "      <td>Fundamental-mode Cepheids</td>\n",
              "    </tr>\n",
              "    <tr>\n",
              "      <th>4</th>\n",
              "      <td>SX Tuc</td>\n",
              "      <td>2</td>\n",
              "      <td>Fundamental-mode Cepheids</td>\n",
              "    </tr>\n",
              "    <tr>\n",
              "      <th>5</th>\n",
              "      <td>SW Tuc</td>\n",
              "      <td>0</td>\n",
              "      <td>Fundamental-mode Cepheids</td>\n",
              "    </tr>\n",
              "    <tr>\n",
              "      <th>6</th>\n",
              "      <td>AT Tuc</td>\n",
              "      <td>1</td>\n",
              "      <td>Fundamental-mode Cepheids</td>\n",
              "    </tr>\n",
              "    <tr>\n",
              "      <th>7</th>\n",
              "      <td>TT Tuc</td>\n",
              "      <td>0</td>\n",
              "      <td>Fundamental-mode Cepheids</td>\n",
              "    </tr>\n",
              "    <tr>\n",
              "      <th>8</th>\n",
              "      <td>OGLE LMC-CEP-3377</td>\n",
              "      <td>2</td>\n",
              "      <td>First-overtone mode Cepheids</td>\n",
              "    </tr>\n",
              "    <tr>\n",
              "      <th>9</th>\n",
              "      <td>OGLE SMC-CEP-4955</td>\n",
              "      <td>0</td>\n",
              "      <td>First-overtone mode Cepheids</td>\n",
              "    </tr>\n",
              "    <tr>\n",
              "      <th>10</th>\n",
              "      <td>OGLE SMC-CEP-4952</td>\n",
              "      <td>0</td>\n",
              "      <td>First-overtone mode Cepheids</td>\n",
              "    </tr>\n",
              "    <tr>\n",
              "      <th>11</th>\n",
              "      <td>OGLE LMC-CEP-4419</td>\n",
              "      <td>0</td>\n",
              "      <td>Multi mode Cepheids</td>\n",
              "    </tr>\n",
              "    <tr>\n",
              "      <th>12</th>\n",
              "      <td>OGLE SMC-CEP-4951</td>\n",
              "      <td>0</td>\n",
              "      <td>Multi mode Cepheids</td>\n",
              "    </tr>\n",
              "    <tr>\n",
              "      <th>13</th>\n",
              "      <td>UY Eri</td>\n",
              "      <td>3</td>\n",
              "      <td>Fundamental Anomalous Cepheids</td>\n",
              "    </tr>\n",
              "    <tr>\n",
              "      <th>14</th>\n",
              "      <td>OGLE GAL-ACEP-006</td>\n",
              "      <td>18</td>\n",
              "      <td>Fundamental Anomalous Cepheids</td>\n",
              "    </tr>\n",
              "    <tr>\n",
              "      <th>15</th>\n",
              "      <td>SS Gru</td>\n",
              "      <td>4</td>\n",
              "      <td>Fundamental Anomalous Cepheids</td>\n",
              "    </tr>\n",
              "    <tr>\n",
              "      <th>16</th>\n",
              "      <td>DF Hyi</td>\n",
              "      <td>1</td>\n",
              "      <td>Fundamental Anomalous Cepheids</td>\n",
              "    </tr>\n",
              "    <tr>\n",
              "      <th>17</th>\n",
              "      <td>WX Tuc</td>\n",
              "      <td>2</td>\n",
              "      <td>Fundamental Anomalous Cepheids</td>\n",
              "    </tr>\n",
              "    <tr>\n",
              "      <th>18</th>\n",
              "      <td>VV Gru</td>\n",
              "      <td>1</td>\n",
              "      <td>Fundamental Anomalous Cepheids</td>\n",
              "    </tr>\n",
              "    <tr>\n",
              "      <th>19</th>\n",
              "      <td>AV Gru</td>\n",
              "      <td>0</td>\n",
              "      <td>Fundamental Anomalous Cepheids</td>\n",
              "    </tr>\n",
              "    <tr>\n",
              "      <th>20</th>\n",
              "      <td>XZ Cet</td>\n",
              "      <td>5</td>\n",
              "      <td>Fist-overtone Anomalous Cepheids</td>\n",
              "    </tr>\n",
              "    <tr>\n",
              "      <th>21</th>\n",
              "      <td>AK PsA</td>\n",
              "      <td>3</td>\n",
              "      <td>Fist-overtone Anomalous Cepheids</td>\n",
              "    </tr>\n",
              "    <tr>\n",
              "      <th>22</th>\n",
              "      <td>AA Gru</td>\n",
              "      <td>4</td>\n",
              "      <td>BL her type</td>\n",
              "    </tr>\n",
              "    <tr>\n",
              "      <th>23</th>\n",
              "      <td>OGLE LMC-T2CEP-023</td>\n",
              "      <td>0</td>\n",
              "      <td>peculiar W Vir type</td>\n",
              "    </tr>\n",
              "    <tr>\n",
              "      <th>24</th>\n",
              "      <td>OGLE LMC-T2CEP-280</td>\n",
              "      <td>1</td>\n",
              "      <td>peculiar W Vir type</td>\n",
              "    </tr>\n",
              "  </tbody>\n",
              "</table>\n",
              "</div>"
            ],
            "text/plain": [
              "                  Name  No_data                              Type\n",
              "0                β Dor       52         Fundamental-mode Cepheids\n",
              "1               RU Dor        2         Fundamental-mode Cepheids\n",
              "2     OGLE LMC-CEP-046        2         Fundamental-mode Cepheids\n",
              "3     OGLE LMC-CEP-227        0         Fundamental-mode Cepheids\n",
              "4               SX Tuc        2         Fundamental-mode Cepheids\n",
              "5               SW Tuc        0         Fundamental-mode Cepheids\n",
              "6               AT Tuc        1         Fundamental-mode Cepheids\n",
              "7               TT Tuc        0         Fundamental-mode Cepheids\n",
              "8    OGLE LMC-CEP-3377        2      First-overtone mode Cepheids\n",
              "9    OGLE SMC-CEP-4955        0      First-overtone mode Cepheids\n",
              "10   OGLE SMC-CEP-4952        0      First-overtone mode Cepheids\n",
              "11   OGLE LMC-CEP-4419        0               Multi mode Cepheids\n",
              "12   OGLE SMC-CEP-4951        0               Multi mode Cepheids\n",
              "13              UY Eri        3    Fundamental Anomalous Cepheids\n",
              "14   OGLE GAL-ACEP-006       18    Fundamental Anomalous Cepheids\n",
              "15              SS Gru        4    Fundamental Anomalous Cepheids\n",
              "16              DF Hyi        1    Fundamental Anomalous Cepheids\n",
              "17              WX Tuc        2    Fundamental Anomalous Cepheids\n",
              "18              VV Gru        1    Fundamental Anomalous Cepheids\n",
              "19              AV Gru        0    Fundamental Anomalous Cepheids\n",
              "20              XZ Cet        5  Fist-overtone Anomalous Cepheids\n",
              "21              AK PsA        3  Fist-overtone Anomalous Cepheids\n",
              "22              AA Gru        4                       BL her type\n",
              "23  OGLE LMC-T2CEP-023        0               peculiar W Vir type\n",
              "24  OGLE LMC-T2CEP-280        1               peculiar W Vir type"
            ]
          },
          "metadata": {},
          "execution_count": 74
        }
      ]
    }
  ]
}